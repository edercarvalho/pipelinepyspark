{
  "nbformat": 4,
  "nbformat_minor": 0,
  "metadata": {
    "colab": {
      "name": "Teste_DE_SAS_v1.ipynb",
      "provenance": [],
      "toc_visible": true,
      "authorship_tag": "ABX9TyOHplPVANBIsSou4q3EFqyH",
      "include_colab_link": true
    },
    "kernelspec": {
      "name": "python3",
      "display_name": "Python 3"
    }
  },
  "cells": [
    {
      "cell_type": "markdown",
      "metadata": {
        "id": "view-in-github",
        "colab_type": "text"
      },
      "source": [
        "<a href=\"https://colab.research.google.com/github/edercarvalho/pipelinepyspark/blob/master/Teste_DE_SAS_v1.ipynb\" target=\"_parent\"><img src=\"https://colab.research.google.com/assets/colab-badge.svg\" alt=\"Open In Colab\"/></a>"
      ]
    },
    {
      "cell_type": "markdown",
      "metadata": {
        "id": "SQ2tgnwPadrj",
        "colab_type": "text"
      },
      "source": [
        "# Pipeline Engenharia de Dados - Teste SAS"
      ]
    },
    {
      "cell_type": "markdown",
      "metadata": {
        "id": "Fk8dLk5BdyEr",
        "colab_type": "text"
      },
      "source": [
        "**Info**\n",
        "\n",
        "Este script foi criado utilizando Python 3.6 com Spark 2.4.5 "
      ]
    },
    {
      "cell_type": "markdown",
      "metadata": {
        "id": "6m9_jmbpgfmR",
        "colab_type": "text"
      },
      "source": [
        "**Iniciar**\n",
        "\n",
        "Para começar precisamos configurar o ambiente instalando os pacotes e biblioteca necessarios para o funcionamento do script.\n"
      ]
    },
    {
      "cell_type": "code",
      "metadata": {
        "id": "91mrA8zCgn5J",
        "colab_type": "code",
        "colab": {}
      },
      "source": [
        "!apt-get install openjdk-8-jdk-headless -qq > /dev/null\n",
        "!wget -q https://www-us.apache.org/dist/spark/spark-2.4.5/spark-2.4.5-bin-hadoop2.7.tgz\n",
        "!tar xf spark-2.4.5-bin-hadoop2.7.tgz\n",
        "!pip install -q findspark"
      ],
      "execution_count": 0,
      "outputs": []
    },
    {
      "cell_type": "code",
      "metadata": {
        "id": "mf8c6_YJiFAb",
        "colab_type": "code",
        "colab": {}
      },
      "source": [
        "# Configurando as variaveis de Ambiente \n",
        "import os\n",
        "os.environ[\"JAVA_HOME\"] = \"/usr/lib/jvm/java-8-openjdk-amd64\"\n",
        "os.environ[\"SPARK_HOME\"] = \"/content/spark-2.4.5-bin-hadoop2.7\""
      ],
      "execution_count": 0,
      "outputs": []
    },
    {
      "cell_type": "code",
      "metadata": {
        "id": "0tlvQIk2iU33",
        "colab_type": "code",
        "colab": {}
      },
      "source": [
        "# Iniciando o Spark\n",
        "import findspark\n",
        "findspark.init()\n",
        "\n",
        "# Importando pacotes necessario para criação do contexo de DataLake utilizando SQL e HIVE que sera usado depois\n",
        "from pyspark import SparkContext, SparkConf\n",
        "from pyspark.sql import SparkSession,HiveContext\n",
        "\n",
        "#Inicializando o Hive\n",
        "SparkContext.setSystemProperty(\"hive.metastore.uris\", \"thrift://nn1:9083\")\n",
        "\n",
        "# Criando a Sessão Spark\n",
        "spark = (SparkSession\n",
        "       .builder\n",
        "       .master(\"local[*]\")\n",
        "       .enableHiveSupport()\n",
        "       .getOrCreate())\n"
      ],
      "execution_count": 0,
      "outputs": []
    },
    {
      "cell_type": "code",
      "metadata": {
        "id": "AZ1IJ2_BjBbk",
        "colab_type": "code",
        "outputId": "d046db8a-1b85-40a3-c244-3c9c96082d05",
        "colab": {
          "resources": {
            "http://localhost:8080/nbextensions/google.colab/files.js": {
              "data": "Ly8gQ29weXJpZ2h0IDIwMTcgR29vZ2xlIExMQwovLwovLyBMaWNlbnNlZCB1bmRlciB0aGUgQXBhY2hlIExpY2Vuc2UsIFZlcnNpb24gMi4wICh0aGUgIkxpY2Vuc2UiKTsKLy8geW91IG1heSBub3QgdXNlIHRoaXMgZmlsZSBleGNlcHQgaW4gY29tcGxpYW5jZSB3aXRoIHRoZSBMaWNlbnNlLgovLyBZb3UgbWF5IG9idGFpbiBhIGNvcHkgb2YgdGhlIExpY2Vuc2UgYXQKLy8KLy8gICAgICBodHRwOi8vd3d3LmFwYWNoZS5vcmcvbGljZW5zZXMvTElDRU5TRS0yLjAKLy8KLy8gVW5sZXNzIHJlcXVpcmVkIGJ5IGFwcGxpY2FibGUgbGF3IG9yIGFncmVlZCB0byBpbiB3cml0aW5nLCBzb2Z0d2FyZQovLyBkaXN0cmlidXRlZCB1bmRlciB0aGUgTGljZW5zZSBpcyBkaXN0cmlidXRlZCBvbiBhbiAiQVMgSVMiIEJBU0lTLAovLyBXSVRIT1VUIFdBUlJBTlRJRVMgT1IgQ09ORElUSU9OUyBPRiBBTlkgS0lORCwgZWl0aGVyIGV4cHJlc3Mgb3IgaW1wbGllZC4KLy8gU2VlIHRoZSBMaWNlbnNlIGZvciB0aGUgc3BlY2lmaWMgbGFuZ3VhZ2UgZ292ZXJuaW5nIHBlcm1pc3Npb25zIGFuZAovLyBsaW1pdGF0aW9ucyB1bmRlciB0aGUgTGljZW5zZS4KCi8qKgogKiBAZmlsZW92ZXJ2aWV3IEhlbHBlcnMgZm9yIGdvb2dsZS5jb2xhYiBQeXRob24gbW9kdWxlLgogKi8KKGZ1bmN0aW9uKHNjb3BlKSB7CmZ1bmN0aW9uIHNwYW4odGV4dCwgc3R5bGVBdHRyaWJ1dGVzID0ge30pIHsKICBjb25zdCBlbGVtZW50ID0gZG9jdW1lbnQuY3JlYXRlRWxlbWVudCgnc3BhbicpOwogIGVsZW1lbnQudGV4dENvbnRlbnQgPSB0ZXh0OwogIGZvciAoY29uc3Qga2V5IG9mIE9iamVjdC5rZXlzKHN0eWxlQXR0cmlidXRlcykpIHsKICAgIGVsZW1lbnQuc3R5bGVba2V5XSA9IHN0eWxlQXR0cmlidXRlc1trZXldOwogIH0KICByZXR1cm4gZWxlbWVudDsKfQoKLy8gTWF4IG51bWJlciBvZiBieXRlcyB3aGljaCB3aWxsIGJlIHVwbG9hZGVkIGF0IGEgdGltZS4KY29uc3QgTUFYX1BBWUxPQURfU0laRSA9IDEwMCAqIDEwMjQ7Ci8vIE1heCBhbW91bnQgb2YgdGltZSB0byBibG9jayB3YWl0aW5nIGZvciB0aGUgdXNlci4KY29uc3QgRklMRV9DSEFOR0VfVElNRU9VVF9NUyA9IDMwICogMTAwMDsKCmZ1bmN0aW9uIF91cGxvYWRGaWxlcyhpbnB1dElkLCBvdXRwdXRJZCkgewogIGNvbnN0IHN0ZXBzID0gdXBsb2FkRmlsZXNTdGVwKGlucHV0SWQsIG91dHB1dElkKTsKICBjb25zdCBvdXRwdXRFbGVtZW50ID0gZG9jdW1lbnQuZ2V0RWxlbWVudEJ5SWQob3V0cHV0SWQpOwogIC8vIENhY2hlIHN0ZXBzIG9uIHRoZSBvdXRwdXRFbGVtZW50IHRvIG1ha2UgaXQgYXZhaWxhYmxlIGZvciB0aGUgbmV4dCBjYWxsCiAgLy8gdG8gdXBsb2FkRmlsZXNDb250aW51ZSBmcm9tIFB5dGhvbi4KICBvdXRwdXRFbGVtZW50LnN0ZXBzID0gc3RlcHM7CgogIHJldHVybiBfdXBsb2FkRmlsZXNDb250aW51ZShvdXRwdXRJZCk7Cn0KCi8vIFRoaXMgaXMgcm91Z2hseSBhbiBhc3luYyBnZW5lcmF0b3IgKG5vdCBzdXBwb3J0ZWQgaW4gdGhlIGJyb3dzZXIgeWV0KSwKLy8gd2hlcmUgdGhlcmUgYXJlIG11bHRpcGxlIGFzeW5jaHJvbm91cyBzdGVwcyBhbmQgdGhlIFB5dGhvbiBzaWRlIGlzIGdvaW5nCi8vIHRvIHBvbGwgZm9yIGNvbXBsZXRpb24gb2YgZWFjaCBzdGVwLgovLyBUaGlzIHVzZXMgYSBQcm9taXNlIHRvIGJsb2NrIHRoZSBweXRob24gc2lkZSBvbiBjb21wbGV0aW9uIG9mIGVhY2ggc3RlcCwKLy8gdGhlbiBwYXNzZXMgdGhlIHJlc3VsdCBvZiB0aGUgcHJldmlvdXMgc3RlcCBhcyB0aGUgaW5wdXQgdG8gdGhlIG5leHQgc3RlcC4KZnVuY3Rpb24gX3VwbG9hZEZpbGVzQ29udGludWUob3V0cHV0SWQpIHsKICBjb25zdCBvdXRwdXRFbGVtZW50ID0gZG9jdW1lbnQuZ2V0RWxlbWVudEJ5SWQob3V0cHV0SWQpOwogIGNvbnN0IHN0ZXBzID0gb3V0cHV0RWxlbWVudC5zdGVwczsKCiAgY29uc3QgbmV4dCA9IHN0ZXBzLm5leHQob3V0cHV0RWxlbWVudC5sYXN0UHJvbWlzZVZhbHVlKTsKICByZXR1cm4gUHJvbWlzZS5yZXNvbHZlKG5leHQudmFsdWUucHJvbWlzZSkudGhlbigodmFsdWUpID0+IHsKICAgIC8vIENhY2hlIHRoZSBsYXN0IHByb21pc2UgdmFsdWUgdG8gbWFrZSBpdCBhdmFpbGFibGUgdG8gdGhlIG5leHQKICAgIC8vIHN0ZXAgb2YgdGhlIGdlbmVyYXRvci4KICAgIG91dHB1dEVsZW1lbnQubGFzdFByb21pc2VWYWx1ZSA9IHZhbHVlOwogICAgcmV0dXJuIG5leHQudmFsdWUucmVzcG9uc2U7CiAgfSk7Cn0KCi8qKgogKiBHZW5lcmF0b3IgZnVuY3Rpb24gd2hpY2ggaXMgY2FsbGVkIGJldHdlZW4gZWFjaCBhc3luYyBzdGVwIG9mIHRoZSB1cGxvYWQKICogcHJvY2Vzcy4KICogQHBhcmFtIHtzdHJpbmd9IGlucHV0SWQgRWxlbWVudCBJRCBvZiB0aGUgaW5wdXQgZmlsZSBwaWNrZXIgZWxlbWVudC4KICogQHBhcmFtIHtzdHJpbmd9IG91dHB1dElkIEVsZW1lbnQgSUQgb2YgdGhlIG91dHB1dCBkaXNwbGF5LgogKiBAcmV0dXJuIHshSXRlcmFibGU8IU9iamVjdD59IEl0ZXJhYmxlIG9mIG5leHQgc3RlcHMuCiAqLwpmdW5jdGlvbiogdXBsb2FkRmlsZXNTdGVwKGlucHV0SWQsIG91dHB1dElkKSB7CiAgY29uc3QgaW5wdXRFbGVtZW50ID0gZG9jdW1lbnQuZ2V0RWxlbWVudEJ5SWQoaW5wdXRJZCk7CiAgaW5wdXRFbGVtZW50LmRpc2FibGVkID0gZmFsc2U7CgogIGNvbnN0IG91dHB1dEVsZW1lbnQgPSBkb2N1bWVudC5nZXRFbGVtZW50QnlJZChvdXRwdXRJZCk7CiAgb3V0cHV0RWxlbWVudC5pbm5lckhUTUwgPSAnJzsKCiAgY29uc3QgcGlja2VkUHJvbWlzZSA9IG5ldyBQcm9taXNlKChyZXNvbHZlKSA9PiB7CiAgICBpbnB1dEVsZW1lbnQuYWRkRXZlbnRMaXN0ZW5lcignY2hhbmdlJywgKGUpID0+IHsKICAgICAgcmVzb2x2ZShlLnRhcmdldC5maWxlcyk7CiAgICB9KTsKICB9KTsKCiAgY29uc3QgY2FuY2VsID0gZG9jdW1lbnQuY3JlYXRlRWxlbWVudCgnYnV0dG9uJyk7CiAgaW5wdXRFbGVtZW50LnBhcmVudEVsZW1lbnQuYXBwZW5kQ2hpbGQoY2FuY2VsKTsKICBjYW5jZWwudGV4dENvbnRlbnQgPSAnQ2FuY2VsIHVwbG9hZCc7CiAgY29uc3QgY2FuY2VsUHJvbWlzZSA9IG5ldyBQcm9taXNlKChyZXNvbHZlKSA9PiB7CiAgICBjYW5jZWwub25jbGljayA9ICgpID0+IHsKICAgICAgcmVzb2x2ZShudWxsKTsKICAgIH07CiAgfSk7CgogIC8vIENhbmNlbCB1cGxvYWQgaWYgdXNlciBoYXNuJ3QgcGlja2VkIGFueXRoaW5nIGluIHRpbWVvdXQuCiAgY29uc3QgdGltZW91dFByb21pc2UgPSBuZXcgUHJvbWlzZSgocmVzb2x2ZSkgPT4gewogICAgc2V0VGltZW91dCgoKSA9PiB7CiAgICAgIHJlc29sdmUobnVsbCk7CiAgICB9LCBGSUxFX0NIQU5HRV9USU1FT1VUX01TKTsKICB9KTsKCiAgLy8gV2FpdCBmb3IgdGhlIHVzZXIgdG8gcGljayB0aGUgZmlsZXMuCiAgY29uc3QgZmlsZXMgPSB5aWVsZCB7CiAgICBwcm9taXNlOiBQcm9taXNlLnJhY2UoW3BpY2tlZFByb21pc2UsIHRpbWVvdXRQcm9taXNlLCBjYW5jZWxQcm9taXNlXSksCiAgICByZXNwb25zZTogewogICAgICBhY3Rpb246ICdzdGFydGluZycsCiAgICB9CiAgfTsKCiAgaWYgKCFmaWxlcykgewogICAgcmV0dXJuIHsKICAgICAgcmVzcG9uc2U6IHsKICAgICAgICBhY3Rpb246ICdjb21wbGV0ZScsCiAgICAgIH0KICAgIH07CiAgfQoKICBjYW5jZWwucmVtb3ZlKCk7CgogIC8vIERpc2FibGUgdGhlIGlucHV0IGVsZW1lbnQgc2luY2UgZnVydGhlciBwaWNrcyBhcmUgbm90IGFsbG93ZWQuCiAgaW5wdXRFbGVtZW50LmRpc2FibGVkID0gdHJ1ZTsKCiAgZm9yIChjb25zdCBmaWxlIG9mIGZpbGVzKSB7CiAgICBjb25zdCBsaSA9IGRvY3VtZW50LmNyZWF0ZUVsZW1lbnQoJ2xpJyk7CiAgICBsaS5hcHBlbmQoc3BhbihmaWxlLm5hbWUsIHtmb250V2VpZ2h0OiAnYm9sZCd9KSk7CiAgICBsaS5hcHBlbmQoc3BhbigKICAgICAgICBgKCR7ZmlsZS50eXBlIHx8ICduL2EnfSkgLSAke2ZpbGUuc2l6ZX0gYnl0ZXMsIGAgKwogICAgICAgIGBsYXN0IG1vZGlmaWVkOiAkewogICAgICAgICAgICBmaWxlLmxhc3RNb2RpZmllZERhdGUgPyBmaWxlLmxhc3RNb2RpZmllZERhdGUudG9Mb2NhbGVEYXRlU3RyaW5nKCkgOgogICAgICAgICAgICAgICAgICAgICAgICAgICAgICAgICAgICAnbi9hJ30gLSBgKSk7CiAgICBjb25zdCBwZXJjZW50ID0gc3BhbignMCUgZG9uZScpOwogICAgbGkuYXBwZW5kQ2hpbGQocGVyY2VudCk7CgogICAgb3V0cHV0RWxlbWVudC5hcHBlbmRDaGlsZChsaSk7CgogICAgY29uc3QgZmlsZURhdGFQcm9taXNlID0gbmV3IFByb21pc2UoKHJlc29sdmUpID0+IHsKICAgICAgY29uc3QgcmVhZGVyID0gbmV3IEZpbGVSZWFkZXIoKTsKICAgICAgcmVhZGVyLm9ubG9hZCA9IChlKSA9PiB7CiAgICAgICAgcmVzb2x2ZShlLnRhcmdldC5yZXN1bHQpOwogICAgICB9OwogICAgICByZWFkZXIucmVhZEFzQXJyYXlCdWZmZXIoZmlsZSk7CiAgICB9KTsKICAgIC8vIFdhaXQgZm9yIHRoZSBkYXRhIHRvIGJlIHJlYWR5LgogICAgbGV0IGZpbGVEYXRhID0geWllbGQgewogICAgICBwcm9taXNlOiBmaWxlRGF0YVByb21pc2UsCiAgICAgIHJlc3BvbnNlOiB7CiAgICAgICAgYWN0aW9uOiAnY29udGludWUnLAogICAgICB9CiAgICB9OwoKICAgIC8vIFVzZSBhIGNodW5rZWQgc2VuZGluZyB0byBhdm9pZCBtZXNzYWdlIHNpemUgbGltaXRzLiBTZWUgYi82MjExNTY2MC4KICAgIGxldCBwb3NpdGlvbiA9IDA7CiAgICB3aGlsZSAocG9zaXRpb24gPCBmaWxlRGF0YS5ieXRlTGVuZ3RoKSB7CiAgICAgIGNvbnN0IGxlbmd0aCA9IE1hdGgubWluKGZpbGVEYXRhLmJ5dGVMZW5ndGggLSBwb3NpdGlvbiwgTUFYX1BBWUxPQURfU0laRSk7CiAgICAgIGNvbnN0IGNodW5rID0gbmV3IFVpbnQ4QXJyYXkoZmlsZURhdGEsIHBvc2l0aW9uLCBsZW5ndGgpOwogICAgICBwb3NpdGlvbiArPSBsZW5ndGg7CgogICAgICBjb25zdCBiYXNlNjQgPSBidG9hKFN0cmluZy5mcm9tQ2hhckNvZGUuYXBwbHkobnVsbCwgY2h1bmspKTsKICAgICAgeWllbGQgewogICAgICAgIHJlc3BvbnNlOiB7CiAgICAgICAgICBhY3Rpb246ICdhcHBlbmQnLAogICAgICAgICAgZmlsZTogZmlsZS5uYW1lLAogICAgICAgICAgZGF0YTogYmFzZTY0LAogICAgICAgIH0sCiAgICAgIH07CiAgICAgIHBlcmNlbnQudGV4dENvbnRlbnQgPQogICAgICAgICAgYCR7TWF0aC5yb3VuZCgocG9zaXRpb24gLyBmaWxlRGF0YS5ieXRlTGVuZ3RoKSAqIDEwMCl9JSBkb25lYDsKICAgIH0KICB9CgogIC8vIEFsbCBkb25lLgogIHlpZWxkIHsKICAgIHJlc3BvbnNlOiB7CiAgICAgIGFjdGlvbjogJ2NvbXBsZXRlJywKICAgIH0KICB9Owp9CgpzY29wZS5nb29nbGUgPSBzY29wZS5nb29nbGUgfHwge307CnNjb3BlLmdvb2dsZS5jb2xhYiA9IHNjb3BlLmdvb2dsZS5jb2xhYiB8fCB7fTsKc2NvcGUuZ29vZ2xlLmNvbGFiLl9maWxlcyA9IHsKICBfdXBsb2FkRmlsZXMsCiAgX3VwbG9hZEZpbGVzQ29udGludWUsCn07Cn0pKHNlbGYpOwo=",
              "ok": true,
              "headers": [
                [
                  "content-type",
                  "application/javascript"
                ]
              ],
              "status": 200,
              "status_text": ""
            }
          },
          "base_uri": "https://localhost:8080/",
          "height": 91
        }
      },
      "source": [
        "# Importando o arquivo que iremos trabalhar para dentro do colab\n",
        "from google.colab import files\n",
        "files.upload()"
      ],
      "execution_count": 0,
      "outputs": [
        {
          "output_type": "display_data",
          "data": {
            "text/html": [
              "\n",
              "     <input type=\"file\" id=\"files-4861a571-d369-44fb-9086-8094103b8213\" name=\"files[]\" multiple disabled />\n",
              "     <output id=\"result-4861a571-d369-44fb-9086-8094103b8213\">\n",
              "      Upload widget is only available when the cell has been executed in the\n",
              "      current browser session. Please rerun this cell to enable.\n",
              "      </output>\n",
              "      <script src=\"/nbextensions/google.colab/files.js\"></script> "
            ],
            "text/plain": [
              "<IPython.core.display.HTML object>"
            ]
          },
          "metadata": {
            "tags": []
          }
        },
        {
          "output_type": "stream",
          "text": [
            "Saving src.txt to src.txt\n"
          ],
          "name": "stdout"
        },
        {
          "output_type": "execute_result",
          "data": {
            "text/plain": [
              "{'src.txt': b'1,Teste'}"
            ]
          },
          "metadata": {
            "tags": []
          },
          "execution_count": 18
        }
      ]
    },
    {
      "cell_type": "markdown",
      "metadata": {
        "id": "f_nnp3LBmGoV",
        "colab_type": "text"
      },
      "source": [
        "# **Criando o Schema**\n",
        "\n",
        "Eu escolhi criar o Schema utilizando Spark SQL **StructType** e **StructField** devido ser mais simples e trabalhar bem com Jsons complexo e com campos aninhados."
      ]
    },
    {
      "cell_type": "code",
      "metadata": {
        "id": "w6hY_YYwmD7C",
        "colab_type": "code",
        "colab": {}
      },
      "source": [
        "# Importantado as Estruturas para criação do Schema\n",
        "from pyspark.sql.types import *\n",
        "\n",
        "# Criando o Schema\n",
        "schema_questions = StructType([\n",
        "    StructField(\"answer_key\", IntegerType(), True),\n",
        "    StructField(\"difficulty\", StringType(), True),\n",
        "    StructField(\"grade\", LongType(), True),\n",
        "    StructField(\"id\", IntegerType(), True),\n",
        "    StructField(\"lecture\", IntegerType(), True),\n",
        "    StructField(\"options\", ArrayType(\n",
        "            StructType([\n",
        "                StructField(\"description\",StringType() , True),\n",
        "                StructField(\"id\", IntegerType(), True),\n",
        "                                      ])\n",
        "        ), True), \n",
        "StructField(\"properties\", ArrayType(\n",
        "            StructType([\n",
        "                StructField(\"id\", StringType(), True),\n",
        "                StructField(\"key\",StringType() , True),\n",
        "                StructField(\"value\", IntegerType(), True)\n",
        "                      ])\n",
        "        ), True),\n",
        "StructField(\"skill\", StructType([\n",
        "        StructField(\"code\", LongType(), True),\n",
        "        StructField(\"heading_topic\", StructType([\n",
        "              StructField(\"id\", IntegerType(), True),\n",
        "              StructField(\"name\", StringType(), True),\n",
        "             ])),\n",
        "        StructField(\"name\", StringType(), True),\n",
        "    ])),\n",
        "StructField(\"statement\", StringType(), True)\n",
        "   ])\n",
        "\n"
      ],
      "execution_count": 0,
      "outputs": []
    },
    {
      "cell_type": "code",
      "metadata": {
        "id": "UDPlrtsnoGut",
        "colab_type": "code",
        "outputId": "883b28cf-3744-4946-cde0-9beb83a3086b",
        "colab": {
          "base_uri": "https://localhost:8080/",
          "height": 403
        }
      },
      "source": [
        "# Carregando o Json e Inferindo o Schema\n",
        "df_json = spark.read.option(\"multiLine\",True).json(\"data_question.json\",schema=schema_questions)\n",
        "\n",
        "# Verificando o Schema\n",
        "df_json.printSchema()"
      ],
      "execution_count": 61,
      "outputs": [
        {
          "output_type": "stream",
          "text": [
            "root\n",
            " |-- answer_key: integer (nullable = true)\n",
            " |-- difficulty: string (nullable = true)\n",
            " |-- grade: long (nullable = true)\n",
            " |-- id: integer (nullable = true)\n",
            " |-- lecture: integer (nullable = true)\n",
            " |-- options: array (nullable = true)\n",
            " |    |-- element: struct (containsNull = true)\n",
            " |    |    |-- description: string (nullable = true)\n",
            " |    |    |-- id: integer (nullable = true)\n",
            " |-- properties: array (nullable = true)\n",
            " |    |-- element: struct (containsNull = true)\n",
            " |    |    |-- id: string (nullable = true)\n",
            " |    |    |-- key: string (nullable = true)\n",
            " |    |    |-- value: integer (nullable = true)\n",
            " |-- skill: struct (nullable = true)\n",
            " |    |-- code: long (nullable = true)\n",
            " |    |-- heading_topic: struct (nullable = true)\n",
            " |    |    |-- id: integer (nullable = true)\n",
            " |    |    |-- name: string (nullable = true)\n",
            " |    |-- name: string (nullable = true)\n",
            " |-- statement: string (nullable = true)\n",
            "\n"
          ],
          "name": "stdout"
        }
      ]
    },
    {
      "cell_type": "code",
      "metadata": {
        "id": "QinYPq-MotvC",
        "colab_type": "code",
        "outputId": "7c5f8b6b-4614-4c49-f3cb-5ef4edf46892",
        "colab": {
          "base_uri": "https://localhost:8080/",
          "height": 222
        }
      },
      "source": [
        "# Verificando o df_json\n",
        "df_json.show(5)"
      ],
      "execution_count": 62,
      "outputs": [
        {
          "output_type": "stream",
          "text": [
            "+----------+----------+-----+---+-------+--------------------+--------------------+--------------------+--------------------+\n",
            "|answer_key|difficulty|grade| id|lecture|             options|          properties|               skill|           statement|\n",
            "+----------+----------+-----+---+-------+--------------------+--------------------+--------------------+--------------------+\n",
            "|         3|      EASY|    0|  0|      0|[[Government acco...|[[8f24467f-f351-4...|[5897001673776287...|Foreign while bas...|\n",
            "|         5|    MEDIUM|    0|  1|      0|[[France, Luxembo...|[[dd29752f-83ce-4...|[6712208284592011...|Machines designed...|\n",
            "|         5|    MEDIUM|    0|  2|      0|[[Is to interim p...|[[0761cdc8-b9ef-4...|[8179027570588556...|Esa to the predom...|\n",
            "|         1|      HARD|    0|  3|      0|[[A planetary Con...|[[4d8d5899-493c-4...|[7409025453606141...|The critique new ...|\n",
            "|         3|      EASY|    0|  4|      0|[[Bleues), Edgar ...|[[9ece5940-df29-4...|[7147975464900988...|Sheri killackeyal...|\n",
            "+----------+----------+-----+---+-------+--------------------+--------------------+--------------------+--------------------+\n",
            "only showing top 5 rows\n",
            "\n"
          ],
          "name": "stdout"
        }
      ]
    },
    {
      "cell_type": "code",
      "metadata": {
        "id": "4Gu_8jurEgLv",
        "colab_type": "code",
        "colab": {
          "base_uri": "https://localhost:8080/",
          "height": 185
        },
        "outputId": "34b46b3c-b893-404a-da66-7571696bb7df"
      },
      "source": [
        "# Criando o dataframe Exame\n",
        "data_exam = [\n",
        "         {\n",
        "          'id': 0,\n",
        "          'tipo': 'Enem',\n",
        "          'ano': 2019,\n",
        "         },\n",
        "        {\n",
        "          'id': 1,\n",
        "          'tipo': 'Enem',\n",
        "          'ano': 2020,\n",
        "         },\n",
        "        {\n",
        "          'id': 2,\n",
        "          'tipo': 'Fuvest',\n",
        "          'ano': 2020,\n",
        "         },\n",
        "        {\n",
        "          'id': 3,\n",
        "          'tipo': 'Fuvest',\n",
        "          'ano': 2019,\n",
        "         },\n",
        "        {\n",
        "          'id': 4,\n",
        "          'tipo': 'uerj',\n",
        "          'ano': 2020,\n",
        "         }\n",
        "]\n",
        "\n",
        "# Criando o Schema para DataFrame Exame\n",
        "schema_exame = StructType([\n",
        "    StructField(\"id\", IntegerType(), True),\n",
        "    StructField(\"tipo\", StringType(), True),\n",
        "    StructField(\"ano\", IntegerType(), True)\n",
        "])\n",
        "\n",
        "df_exam = spark.createDataFrame(data_exam, schema_exame)\n",
        "\n",
        "# Mostrando o df\n",
        "df_exam.show()"
      ],
      "execution_count": 65,
      "outputs": [
        {
          "output_type": "stream",
          "text": [
            "+---+------+----+\n",
            "| id|  tipo| ano|\n",
            "+---+------+----+\n",
            "|  0|  Enem|2019|\n",
            "|  1|  Enem|2020|\n",
            "|  2|Fuvest|2020|\n",
            "|  3|Fuvest|2019|\n",
            "|  4|  uerj|2020|\n",
            "+---+------+----+\n",
            "\n"
          ],
          "name": "stdout"
        }
      ]
    },
    {
      "cell_type": "markdown",
      "metadata": {
        "id": "l9OIEmJEEosM",
        "colab_type": "text"
      },
      "source": [
        "**TABELA 1**\n",
        "\n",
        "Criando o data frame que servirar para criar a Tabela1 "
      ]
    },
    {
      "cell_type": "code",
      "metadata": {
        "id": "rucaTBDcEsIM",
        "colab_type": "code",
        "colab": {
          "base_uri": "https://localhost:8080/",
          "height": 474
        },
        "outputId": "b8149e3c-d735-4e4e-c9c4-acc9ea7bebac"
      },
      "source": [
        "# Importando as funções do pacote Sql para o tratamento dos dados\n",
        "from pyspark.sql.functions import *\n",
        "\n",
        "# Criando o primiro data frame para base das sontrução das futuras tabelas\n",
        "df_base = df_json.select(\n",
        "                      expr(\"id as question_id\"),\n",
        "                      expr(\"statement as question\"),\n",
        "                      expr(\"properties.id as properties_id\"),\n",
        "                      expr(\"properties.key  as properties_name\")\n",
        "                      )\n",
        "\n",
        "# Criando e Adicionando a Coluna calculada \"exam_id\" para se relacionar com df_exam\n",
        "df_0 = df_base.withColumn('exam_id',df_base['question_id'] % 5)\n",
        "\n",
        "#Juntando as Tabelas para a criação do data framae que se tornara a Tabela1 do solicitado no Teste\n",
        "df_1 = df_0.join(df_exam,df_0.exam_id == df_exam.id).drop(df_exam.id)\n",
        "\n",
        "# Ordenando e removendo a coluna ano \n",
        "tab1 = df_1.orderBy(\"question_id\").drop(df_1.ano)\n",
        "\n",
        "tab1.show()"
      ],
      "execution_count": 67,
      "outputs": [
        {
          "output_type": "stream",
          "text": [
            "+-----------+--------------------+--------------------+--------------------+-------+------+\n",
            "|question_id|            question|       properties_id|     properties_name|exam_id|  tipo|\n",
            "+-----------+--------------------+--------------------+--------------------+-------+------+\n",
            "|          0|Foreign while bas...|[8f24467f-f351-47...|[THE, MAL, THE, F...|      0|  Enem|\n",
            "|          1|Machines designed...|[dd29752f-83ce-45...|[THERÓN, BROO, OF...|      1|  Enem|\n",
            "|          2|Esa to the predom...|[0761cdc8-b9ef-43...|[INED, MODGES, CO...|      2|Fuvest|\n",
            "|          3|The critique new ...|[4d8d5899-493c-47...|[KM, TORLD, INABL...|      3|Fuvest|\n",
            "|          4|Sheri killackeyal...|[9ece5940-df29-49...|[BUIRLY, ANG, AK)...|      4|  uerj|\n",
            "|          5|Other tributary n...|[8b58e1b0-93b7-4d...|[FUNCEL, TOGRA,, ...|      0|  Enem|\n",
            "|          6|One-way movement....|[63a27710-6caa-4a...|[FORTMO, HAROPL, ...|      1|  Enem|\n",
            "|          7|Involved, or we o...|[7d146dbe-6d7f-41...|[IN, EIRTWE, AND,...|      2|Fuvest|\n",
            "|          8|Leibniz (1646–171...|[8a620e6f-78d6-4f...|[AK), BEIROU, IN,...|      3|Fuvest|\n",
            "|          9|Has evolved the s...|[f3a8e196-ff5e-4d...|[FOR, OTHE, WCL-9...|      4|  uerj|\n",
            "|         10|Air france, one's...|[ec34726b-c320-4c...|[ANG, OF, SO, 187...|      0|  Enem|\n",
            "|         11|Places consist a ...|[fb29b8a2-5527-4e...|[MAL, OF, HAVENT,...|      1|  Enem|\n",
            "|         12|Fun as usually pr...|[4e52dfec-c4bf-49...|[TETWEV, SHICAL, ...|      2|Fuvest|\n",
            "|         13|Western european ...|[5ba9accd-b345-4b...|[OF, ETED, HING, ...|      3|Fuvest|\n",
            "|         14|Living room small...|[97c55b21-f683-49...|[THEORY, AS, FOUN...|      4|  uerj|\n",
            "|         15|The case primaril...|[aeb40da9-d2bb-43...|[KNORME, BY, IT, ...|      0|  Enem|\n",
            "|         16|Personal persever...|[bb9d7fd4-da41-4f...|[W., ARK, TAT, AG...|      1|  Enem|\n",
            "|         17|Redrawn once the ...|[0fd789a9-fc7e-4f...|[ING,, OTHE, ASSI...|      2|Fuvest|\n",
            "|         18|Be solved sculptu...|[665df115-ea93-44...|[ANDERL, BESED, T...|      3|Fuvest|\n",
            "|         19|Science practice ...|[9e65fa93-9ee6-46...|[INTS, ISSIGH, RE...|      4|  uerj|\n",
            "+-----------+--------------------+--------------------+--------------------+-------+------+\n",
            "only showing top 20 rows\n",
            "\n"
          ],
          "name": "stdout"
        }
      ]
    },
    {
      "cell_type": "markdown",
      "metadata": {
        "id": "jdwcd-pRE6kd",
        "colab_type": "text"
      },
      "source": [
        "**TABELA 2**\n",
        "\n",
        "Criando o data frame que servirar para criar a Tabela2"
      ]
    },
    {
      "cell_type": "code",
      "metadata": {
        "id": "LxBTiuFqE8Ij",
        "colab_type": "code",
        "colab": {
          "base_uri": "https://localhost:8080/",
          "height": 454
        },
        "outputId": "bce7819a-e56d-4721-99a5-af6fc7d791ea"
      },
      "source": [
        "# Agrupando a base de acordo com a quantidade de vezes que a propiedade caiu\n",
        "df_2 = df_1.groupby(\n",
        "                 expr('properties_id'),\n",
        "                 expr(\"properties_name\"),\n",
        "                 expr('exam_id'),expr('tipo'),\n",
        "                 expr('ano')\n",
        "                  ).agg(\n",
        "                count('properties_id')\n",
        "                .alias('properties_size')\n",
        "                 )\n",
        "#Organizando a sequencia das colunas\n",
        "tab2 = df_2.select(\"properties_id\",\"properties_name\",\"properties_size\",\"exam_id\",\"tipo\",\"ano\")\n",
        "\n",
        "tab2.show()"
      ],
      "execution_count": 69,
      "outputs": [
        {
          "output_type": "stream",
          "text": [
            "+--------------------+--------------------+---------------+-------+------+----+\n",
            "|       properties_id|     properties_name|properties_size|exam_id|  tipo| ano|\n",
            "+--------------------+--------------------+---------------+-------+------+----+\n",
            "|[93e00441-0796-49...| [LAT, BY, 4, PERTA]|              1|      0|  Enem|2019|\n",
            "|[c023203d-4b95-47...|       [IND, SUCTED]|              1|      0|  Enem|2019|\n",
            "|[a4b0bfa7-4ef2-43...|          [UN., LAW]|              1|      0|  Enem|2019|\n",
            "|[522dcd15-0968-43...|        [BEFUND, OF]|              1|      0|  Enem|2019|\n",
            "|[4aeeb7a5-2cc8-4a...|[WEACHA, DAYN, CA...|              1|      0|  Enem|2019|\n",
            "|[77be37cf-dcc9-42...|[OF, ITA, FORIVE,...|              1|      0|  Enem|2019|\n",
            "|[025d1f4e-3e4f-4c...|[MORDPA, NEUQUE, ...|              1|      0|  Enem|2019|\n",
            "|[87791be8-d26c-4e...|  [AS, ARST, CLAGAR]|              1|      0|  Enem|2019|\n",
            "|[22574ef3-518f-48...|        [DITINK, IS]|              1|      1|  Enem|2020|\n",
            "|[01e5cc4a-7776-4d...|[THE, AS, COVITI,...|              1|      1|  Enem|2020|\n",
            "|[05bc302d-96bb-48...|[MON\"., THE, ONE,...|              1|      1|  Enem|2020|\n",
            "|[1150c72a-1015-45...|[THE, THAVE,, 2,0...|              1|      1|  Enem|2020|\n",
            "|[ad765bbf-95a1-4c...|[TH, TWELD, SHIND...|              1|      1|  Enem|2020|\n",
            "|[0858f13f-21af-46...|            [SUCTED]|              1|      1|  Enem|2020|\n",
            "|[37b620ed-c982-47...|            [ABOVER]|              1|      1|  Enem|2020|\n",
            "|[15ab7a6d-d8f1-40...|      [ISLAN, PEORD]|              1|      2|Fuvest|2020|\n",
            "|[4caad3e9-649c-44...|[BROO, KM, TETWEV...|              1|      2|Fuvest|2020|\n",
            "|[0675b1e5-0076-4c...|[ING, NOMMOT, OF,...|              1|      2|Fuvest|2020|\n",
            "|[eab68254-83f5-44...|               [THE]|              1|      2|Fuvest|2020|\n",
            "|[c6ac0cc6-7354-49...|            [SLIALL]|              1|      2|Fuvest|2020|\n",
            "+--------------------+--------------------+---------------+-------+------+----+\n",
            "only showing top 20 rows\n",
            "\n"
          ],
          "name": "stdout"
        }
      ]
    },
    {
      "cell_type": "markdown",
      "metadata": {
        "id": "2ok4TjQhGA2e",
        "colab_type": "text"
      },
      "source": [
        "#**Escrevendo as Tabelas no Hive**\n",
        "\n",
        "Como ja tinha estanciado no incio do script o contexto do Hive na Sessão do Spark então já posso criar direto as Tabelas"
      ]
    },
    {
      "cell_type": "code",
      "metadata": {
        "id": "UHA9eBiHFONt",
        "colab_type": "code",
        "colab": {
          "base_uri": "https://localhost:8080/",
          "height": 474
        },
        "outputId": "b4bc7af4-0fb0-4265-aae6-f88fce93dfdb"
      },
      "source": [
        "# Criando a Tabela1\n",
        "tab1.write.saveAsTable('Tabela1')\n",
        "\n",
        "# Lendo a Tabela1\n",
        "spark.sql(\"SELECT * FROM Tabela1\").show()"
      ],
      "execution_count": 73,
      "outputs": [
        {
          "output_type": "stream",
          "text": [
            "+-----------+--------------------+--------------------+--------------------+-------+------+\n",
            "|question_id|            question|       properties_id|     properties_name|exam_id|  tipo|\n",
            "+-----------+--------------------+--------------------+--------------------+-------+------+\n",
            "|       1525|Solve specific su...|[5002eae8-14be-48...|[INTS, THE, ST, W...|      0|  Enem|\n",
            "|       1526|Main part poor te...|[3cbce0e1-590a-48...|[OF, CONS., LEAGE...|      1|  Enem|\n",
            "|       1527|Egypt web henry r...|[9cf00a98-b35c-46...|  [A, IT?, 695, THE]|      2|Fuvest|\n",
            "|       1528|Ivan albright and...|[84cd5fb4-2088-42...|[THED, SOLUDG, IN...|      3|Fuvest|\n",
            "|       1529|Ottawa, calgary, ...|[2c47ef6d-294f-49...|[FARE, TOR, REMON...|      4|  uerj|\n",
            "|       1530|Second republic n...|[10e50069-6d11-40...|[MONCH-, CREAL, E...|      0|  Enem|\n",
            "|       1531|Around mid-may de...|[23cf3fc3-a9f0-47...|[DAYN, BESED, THE...|      1|  Enem|\n",
            "|       1532|The geological ho...|[dfaf8a1e-2532-47...|[AS, LIND, ETHE, ...|      2|Fuvest|\n",
            "|       1533|(see inbreeding h...|[8c74c88f-1e93-4b...|[THED, AGENT,, WO...|      3|Fuvest|\n",
            "|       1534|Astronomy, partic...|[7587c18e-68f4-44...|[THE, CLOS., RE, ...|      4|  uerj|\n",
            "|       1535|(21): 3060. fame ...|[0efc4479-21e9-4b...|[FALLEC, GLIS, IN...|      0|  Enem|\n",
            "|       1536|Of hercules count...|[d79049f8-d20d-45...|[AN:, NALL, MAT, ...|      1|  Enem|\n",
            "|       1537|Molly on thought ...|[0f6ac457-f347-42...|[BY, INTURO, HAD,...|      2|Fuvest|\n",
            "|       1538|And mamie of 349,...|[49432ed6-e297-41...|[KELECU, TH'S, AR...|      3|Fuvest|\n",
            "|       1539|Space. because st...|[630247ad-9ccb-46...|[COMERN, MOUNDI, ...|      4|  uerj|\n",
            "|       1540|\"actors\" and they...|[4ba87611-d949-46...| [IS, EURE, VILY, A]|      0|  Enem|\n",
            "|       1541|Altitude level to...|[3b9efc57-69a1-49...|[OF, IS, INT,, FL...|      1|  Enem|\n",
            "|       1542|Everyday behavior...|[7bc50a2a-1a2d-46...|[ABOUTE, VOLIAL, ...|      2|Fuvest|\n",
            "|       1543|Study biological ...|[7e9e39ae-2824-47...|[CAND, IS, OTHE, ...|      3|Fuvest|\n",
            "|       1544|(wire services) s...|[42289c4c-6d59-46...|[ETED, THERST, 19...|      4|  uerj|\n",
            "+-----------+--------------------+--------------------+--------------------+-------+------+\n",
            "only showing top 20 rows\n",
            "\n"
          ],
          "name": "stdout"
        }
      ]
    },
    {
      "cell_type": "code",
      "metadata": {
        "id": "Mn2Om2qfGz-3",
        "colab_type": "code",
        "colab": {
          "base_uri": "https://localhost:8080/",
          "height": 454
        },
        "outputId": "fb42050d-aa85-4ad1-f56c-4b4d11da3f21"
      },
      "source": [
        "# Criando a Tabela2\n",
        "tab2.write.saveAsTable('Tabela2')\n",
        "\n",
        "# Lendo a Tabela1\n",
        "spark.sql(\"SELECT * FROM Tabela2\").show()"
      ],
      "execution_count": 74,
      "outputs": [
        {
          "output_type": "stream",
          "text": [
            "+--------------------+--------------------+---------------+-------+------+----+\n",
            "|       properties_id|     properties_name|properties_size|exam_id|  tipo| ano|\n",
            "+--------------------+--------------------+---------------+-------+------+----+\n",
            "|[fa398b5c-24d5-40...|     [WCL-93, PERTA]|              1|      0|  Enem|2019|\n",
            "|[9af924f5-a6de-40...|         [NUE, SOUT]|              1|      0|  Enem|2019|\n",
            "|[6b723293-60c0-4e...|[TH'S, UNTIMS, KN...|              1|      0|  Enem|2019|\n",
            "|[6924781d-aff5-4e...|[COVITI, RECING, ...|              1|      0|  Enem|2019|\n",
            "|[e101ade9-508d-49...|     [THER., POPLEN]|              1|      0|  Enem|2019|\n",
            "|[43037bb9-ccf4-48...|[HATION, TO, THE, A]|              1|      0|  Enem|2019|\n",
            "|[390bc16f-c039-41...|[WIDESS, AL, (SUS...|              1|      1|  Enem|2020|\n",
            "|[290d0ef1-9fe0-4d...|    [BEIROU, JOSPER]|              1|      1|  Enem|2020|\n",
            "|[1b5fdd61-3d2a-4b...|      [THEIRD, HANE]|              1|      1|  Enem|2020|\n",
            "|[680624e2-78a1-42...|               [THE]|              1|      1|  Enem|2020|\n",
            "|[438b3c6f-b292-42...| [TABLIZ, KING, SED]|              1|      1|  Enem|2020|\n",
            "|[cd33b9e6-f5ef-4a...|   [WASS, OF, ENTED]|              1|      1|  Enem|2020|\n",
            "|[ff7c4b4d-fe3a-4c...|   [198, TOGION, IN]|              1|      1|  Enem|2020|\n",
            "|[771f60ba-740c-4b...|        [WORK, HING]|              1|      2|Fuvest|2020|\n",
            "|[ec5368d1-d3cc-4c...|[TOR, RIVERS, THE...|              1|      2|Fuvest|2020|\n",
            "|[7e05160c-35e8-4c...|  [ST, THE, TE, OFT]|              1|      2|Fuvest|2020|\n",
            "|[f5d816de-c2f8-45...|[AR, QUE., FAL, THE]|              1|      2|Fuvest|2020|\n",
            "|[d0c5e343-ebbd-42...|[BUE, UN., POOD, ...|              1|      2|Fuvest|2020|\n",
            "|[e9500dc7-9ab7-44...|[ORE, CONTAL, SOL...|              1|      2|Fuvest|2020|\n",
            "|[1e0e852f-f896-43...|[MODE, THE, BESED...|              1|      2|Fuvest|2020|\n",
            "+--------------------+--------------------+---------------+-------+------+----+\n",
            "only showing top 20 rows\n",
            "\n"
          ],
          "name": "stdout"
        }
      ]
    }
  ]
}